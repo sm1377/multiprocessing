{
  "nbformat": 4,
  "nbformat_minor": 0,
  "metadata": {
    "colab": {
      "provenance": [],
      "authorship_tag": "ABX9TyNK84rLz/e/B2LDaPvdeizy",
      "include_colab_link": true
    },
    "kernelspec": {
      "name": "python3",
      "display_name": "Python 3"
    },
    "language_info": {
      "name": "python"
    }
  },
  "cells": [
    {
      "cell_type": "markdown",
      "metadata": {
        "id": "view-in-github",
        "colab_type": "text"
      },
      "source": [
        "<a href=\"https://colab.research.google.com/github/sm1377/multiprocessing/blob/main/Untitled1.ipynb\" target=\"_parent\"><img src=\"https://colab.research.google.com/assets/colab-badge.svg\" alt=\"Open In Colab\"/></a>"
      ]
    },
    {
      "cell_type": "code",
      "execution_count": null,
      "metadata": {
        "colab": {
          "base_uri": "https://localhost:8080/"
        },
        "id": "3neD6FmAZ6_E",
        "outputId": "2f9a22de-682b-403f-e592-5c5a3c8ddd60"
      },
      "outputs": [
        {
          "metadata": {
            "tags": null
          },
          "name": "stdout",
          "output_type": "stream",
          "text": [
            "درصد بار هسته‌ها:\n",
            "هسته 1: 13.0%\n",
            "هسته 2: 12.0%\n",
            "درصد بار هسته‌ها بعد از افزایش بار:\n",
            "هسته 1: 7.6%\n",
            "هسته 2: 12.8%\n"
          ]
        }
      ],
      "source": [
        "import os\n",
        "import time\n",
        "import psutil\n",
        "import multiprocessing\n",
        "from multiprocessing import Process\n",
        "\n",
        "\n",
        "def cpu_load_generator(load_percent):\n",
        "    start_time = time.time()\n",
        "    while True:\n",
        "        if (time.time() - start_time) < (load_percent / 100):\n",
        "            pass\n",
        "        else:\n",
        "            time.sleep(1 - (load_percent / 100))\n",
        "\n",
        "\n",
        "def display_cpu_percent():\n",
        "    cpu_percent = psutil.cpu_percent(percpu=True)\n",
        "    for i, percent in enumerate(cpu_percent):\n",
        "        print(f\"هسته {i + 1}: {percent}%\")\n",
        "\n",
        "\n",
        "def main():\n",
        "    print(\"درصد بار هسته‌ها:\")\n",
        "    display_cpu_percent()\n",
        "    increase_percent = int(input(\"لطفا درصد افزایش بار را وارد کنید : \"))\n",
        "    cpu_count = multiprocessing.cpu_count()\n",
        "\n",
        "    processes = []\n",
        "    for _ in range(cpu_count):\n",
        "        p = Process(target=cpu_load_generator, args=(increase_percent,))\n",
        "        p.start()\n",
        "        processes.append(p)\n",
        "\n",
        "    print(\"درصد بار هسته‌ها بعد از افزایش بار:\")\n",
        "    time.sleep(1)  \n",
        "    display_cpu_percent()\n",
        "\n",
        "    input(\"برای خارج شدن و خاتمه بار ایجاد شده کلیدی را فشار دهید...\")\n",
        "    for p in processes:\n",
        "        p.terminate()\n",
        "    print(\"finish\")\n",
        "\n",
        "\n",
        "if __name__ == \"__main__\":\n",
        "    main()"
      ]
    }
  ]
}